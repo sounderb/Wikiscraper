{
 "cells": [
  {
   "cell_type": "code",
   "execution_count": 1,
   "metadata": {},
   "outputs": [
    {
     "name": "stdout",
     "output_type": "stream",
     "text": [
      "Downloaded in... 1.321\n",
      "3 tables under 2 classes\n"
     ]
    }
   ],
   "source": [
    "# -*- coding: utf-8 -*-\n",
    "\"\"\"\n",
    "@author: sounder\n",
    "\"\"\"\n",
    "\n",
    "import urllib.request as urr\n",
    "import urllib.error\n",
    "from bs4 import BeautifulSoup\n",
    "import time as time\n",
    "import pandas as pd\n",
    "import csv\n",
    "\n",
    "t1=time.perf_counter()\n",
    "req = urr.Request('https://en.wikipedia.org/wiki/Forest_cover_by_state_and_territory_in_the_United_States') \n",
    "try: content = urr.urlopen(req)\n",
    "except urllib.error.URLError as e:\n",
    "    print(e.reason) \n",
    "\n",
    "cs = content.info().get_content_charset() #get charset of webpage\n",
    "html = content.read().decode(cs) #consists of html source code\n",
    "\n",
    "print(\"Downloaded in...\",round(time.perf_counter()-t1,3))\n",
    "\n",
    "soup = BeautifulSoup(html,'html.parser')\n",
    "data=[]\n",
    "tabdata=[]\n",
    "tabclasses = []\n",
    "tables = soup.findAll(\"table\") #, { \"class\" : \"wikitable\" })\n",
    "\n",
    "for index,tab in enumerate(tables):\n",
    "    data.append([])\n",
    "    tabclasses.append(tab.attrs)\n",
    "    for ind,items in enumerate(tab.find_all(\"tr\")):\n",
    "        cols = items.find_all([\"th\",\"td\"])\n",
    "        cols = [ele.text.strip() for ele in cols]\n",
    "        data[index].append([ele for ele in cols if (ele != [])])\n",
    "        \n",
    "tabclasses = pd.DataFrame(tabclasses)\n",
    "\n",
    "tabno = len(tabclasses['class'])\n",
    "tabclasses = tabclasses.iloc[tabclasses['class'].astype(str).drop_duplicates().index]\n",
    "print(tabno,\"tables under\",len(tabclasses['class']),\"classes\")\n",
    "\n",
    "with open(\"output.csv\", \"w\",encoding=cs,newline='') as f:\n",
    "    writer = csv.writer(f)\n",
    "    for rows in data:\n",
    "        writer.writerows(rows)\n",
    "        f.write('\\n')\n"
   ]
  }
 ],
 "metadata": {
  "kernelspec": {
   "display_name": "Python 3",
   "language": "python",
   "name": "python3"
  },
  "language_info": {
   "codemirror_mode": {
    "name": "ipython",
    "version": 3
   },
   "file_extension": ".py",
   "mimetype": "text/x-python",
   "name": "python",
   "nbconvert_exporter": "python",
   "pygments_lexer": "ipython3",
   "version": "3.7.1"
  }
 },
 "nbformat": 4,
 "nbformat_minor": 2
}
